{
 "cells": [
  {
   "cell_type": "code",
   "execution_count": 138,
   "metadata": {},
   "outputs": [],
   "source": [
    "from re import A\n",
    "import numpy as np\n",
    "import matplotlib.pyplot as plt\n",
    "import os\n",
    "import math\n",
    "import shutil\n",
    "import glob"
   ]
  },
  {
   "cell_type": "code",
   "execution_count": 139,
   "metadata": {},
   "outputs": [
    {
     "name": "stdout",
     "output_type": "stream",
     "text": [
      "{'Test': 2, 'Train': 2, 'Validation': 2, 'val': 2}\n"
     ]
    }
   ],
   "source": [
    "ROOT_DIR = \"../../.cache/kagglehub/datasets/manjilkarki/deepfake-and-real-images/versions/1/Dataset\"\n",
    "number_of_images = {}\n",
    "\n",
    "if os.path.exists(ROOT_DIR) and os.path.isdir(ROOT_DIR):\n",
    "    for dir_name in os.listdir(ROOT_DIR):\n",
    "        dir_path = os.path.join(ROOT_DIR, dir_name)\n",
    "        if os.path.isdir(dir_path):  # Ensure it's a folder\n",
    "            number_of_images[dir_name] = len(os.listdir(dir_path))\n",
    "\n",
    "    print(number_of_images)\n",
    "else:\n",
    "    print(f\"Error: '{ROOT_DIR}' is not a valid directory.\")"
   ]
  },
  {
   "cell_type": "code",
   "execution_count": 140,
   "metadata": {},
   "outputs": [
    {
     "data": {
      "text/plain": [
       "dict_items([('Real', 0), ('Fake', 24496)])"
      ]
     },
     "execution_count": 140,
     "metadata": {},
     "output_type": "execute_result"
    }
   ],
   "source": [
    "real_face_path = \"./Dataset/Train/Real\"\n",
    "fake_face_path = \"./Dataset/Train/Fake\"\n",
    "\n",
    "os.makedirs(\"./Dataset/Train\", exist_ok=True)\n",
    "os.makedirs(real_face_path, exist_ok=True)\n",
    "os.makedirs(fake_face_path, exist_ok=True)\n",
    "\n",
    "for folder in os.listdir(ROOT_DIR + \"/Train\"):\n",
    "    folder_path = os.path.join(ROOT_DIR + \"/Train\", folder)\n",
    "    if os.path.isdir(folder_path): \n",
    "        files = os.listdir(folder_path)\n",
    "        target_path = real_face_path if folder == \"Real\" else fake_face_path\n",
    "        for file in files:\n",
    "            file_path = os.path.join(folder_path, file) \n",
    "            if os.path.isfile(file_path):\n",
    "                shutil.move(file_path, os.path.join(target_path, file))\n",
    "\n",
    "num_files_to_select = int(0.7 * len(files))\n",
    "selected_files = np.random.choice(files, num_files_to_select, replace=False)\n",
    "\n",
    "for file in selected_files:\n",
    "      file_path = os.path.join(folder_path, file)\n",
    "      if os.path.isfile(file_path):  # Ensure it's a file\n",
    "        shutil.copy(file_path, target_path)\n",
    "\n",
    "number_of_images_train = {}\n",
    "\n",
    "for dir in os.listdir(ROOT_DIR + \"/Train\"):\n",
    "  number_of_images_train[dir] = len(os.listdir(os.path.join(\"Dataset/Train\", dir)))\n",
    "\n",
    "number_of_images_train.items()    \n"
   ]
  },
  {
   "cell_type": "code",
   "execution_count": 143,
   "metadata": {},
   "outputs": [],
   "source": [
    "# real_face_path = \"./Dataset/val/Real\"\n",
    "# fake_face_path = \"./Dataset/val/Fake\"\n",
    "\n",
    "# os.makedirs(\"./Dataset/val\", exist_ok=True)\n",
    "# os.makedirs(real_face_path, exist_ok=True)\n",
    "# os.makedirs(fake_face_path, exist_ok=True)\n",
    "\n",
    "# files = [file for file in os.listdir(\"./Dataset/Train/fake\") if os.path.isfile(os.path.join(\"./Dataset/Train/fake\", file))]\n",
    "\n",
    "# # Select 30% of the files randomly\n",
    "# num_files_to_move = int(0.3 * len(files))\n",
    "# selected_files = np.random.choice(files, num_files_to_move, replace=False)\n",
    "\n",
    "# for file in selected_files:\n",
    "#     file_path = os.path.join(\"./Dataset/Train/Fake\", file)\n",
    "#     if os.path.isfile(file_path):\n",
    "#         # Move files with 'fake' in the name to the 'Fake' folder\n",
    "#         if 'fake' in file.lower():\n",
    "#             shutil.move(file_path, os.path.join(fake_face_path, file))\n",
    "\n",
    "# files = [file for file in os.listdir(\"./Dataset/val/Real\") if os.path.isfile(os.path.join(\"./Dataset/val/Real\", file))]\n",
    "\n",
    "# Select 30% of the files randomly\n",
    "num_files_to_move = int(0.7 * len(files))\n",
    "selected_files = np.random.choice(files, num_files_to_move, replace=False)\n",
    "\n",
    "for file in os.listdir(\"./Dataset/val/Real\"):\n",
    "    file_path = os.path.join(\"./Dataset/val/Real\", file)\n",
    "    if os.path.isfile(file_path):\n",
    "        # Move files with 'fake' in the name to the 'Fake' folder\n",
    "        if 'real' in file.lower():\n",
    "            shutil.move(file_path, os.path.join(\"./Dataset/Train/Real\", file))"
   ]
  },
  {
   "cell_type": "code",
   "execution_count": null,
   "metadata": {},
   "outputs": [
    {
     "ename": "OSError",
     "evalue": "[Errno 30] Read-only file system: '/Dataset'",
     "output_type": "error",
     "traceback": [
      "\u001b[31m---------------------------------------------------------------------------\u001b[39m",
      "\u001b[31mOSError\u001b[39m                                   Traceback (most recent call last)",
      "\u001b[36mCell\u001b[39m\u001b[36m \u001b[39m\u001b[32mIn[142]\u001b[39m\u001b[32m, line 5\u001b[39m\n\u001b[32m      2\u001b[39m fake_face_path = \u001b[33m\"\u001b[39m\u001b[33m/Dataset/val/Fake\u001b[39m\u001b[33m\"\u001b[39m\n\u001b[32m      4\u001b[39m os.makedirs(\u001b[33m\"\u001b[39m\u001b[33m./Dataset/val\u001b[39m\u001b[33m\"\u001b[39m, exist_ok=\u001b[38;5;28;01mTrue\u001b[39;00m)\n\u001b[32m----> \u001b[39m\u001b[32m5\u001b[39m \u001b[43mos\u001b[49m\u001b[43m.\u001b[49m\u001b[43mmakedirs\u001b[49m\u001b[43m(\u001b[49m\u001b[43mreal_face_path\u001b[49m\u001b[43m,\u001b[49m\u001b[43m \u001b[49m\u001b[43mexist_ok\u001b[49m\u001b[43m=\u001b[49m\u001b[38;5;28;43;01mTrue\u001b[39;49;00m\u001b[43m)\u001b[49m\n\u001b[32m      6\u001b[39m os.makedirs(fake_face_path, exist_ok=\u001b[38;5;28;01mTrue\u001b[39;00m)\n\u001b[32m      8\u001b[39m \u001b[38;5;28;01mfor\u001b[39;00m folder \u001b[38;5;129;01min\u001b[39;00m os.listdir(ROOT_DIR + \u001b[33m\"\u001b[39m\u001b[33m/Train\u001b[39m\u001b[33m\"\u001b[39m):\n",
      "\u001b[36mFile \u001b[39m\u001b[32m<frozen os>:217\u001b[39m, in \u001b[36mmakedirs\u001b[39m\u001b[34m(name, mode, exist_ok)\u001b[39m\n",
      "\u001b[36mFile \u001b[39m\u001b[32m<frozen os>:217\u001b[39m, in \u001b[36mmakedirs\u001b[39m\u001b[34m(name, mode, exist_ok)\u001b[39m\n",
      "\u001b[36mFile \u001b[39m\u001b[32m<frozen os>:227\u001b[39m, in \u001b[36mmakedirs\u001b[39m\u001b[34m(name, mode, exist_ok)\u001b[39m\n",
      "\u001b[31mOSError\u001b[39m: [Errno 30] Read-only file system: '/Dataset'"
     ]
    }
   ],
   "source": [
    "# real_face_path = \"/Dataset/val/Real\"\n",
    "# fake_face_path = \"/Dataset/val/Fake\"\n",
    "\n",
    "# os.makedirs(\"./Dataset/val\", exist_ok=True)\n",
    "# os.makedirs(real_face_path, exist_ok=True)\n",
    "# os.makedirs(fake_face_path, exist_ok=True)\n",
    "\n",
    "# for folder in os.listdir(ROOT_DIR + \"/Train\"):\n",
    "#   folder_path = os.path.join(ROOT_DIR + \"/Train\", folder)\n",
    "#   if os.path.isdir(folder_path):\n",
    "#     target_path = real_face_path if folder in real_classes else fake_face_path\n",
    "#     files = os.listdir(folder_path)\n",
    "\n",
    "#     num_files_to_select = int(0.3 * len(files))\n",
    "#     selected_files = np.random.choice(files, num_files_to_select, replace=False)\n",
    "    \n",
    "#     for file in selected_files:\n",
    "#       file_path = os.path.join(folder_path, file)\n",
    "#       if os.path.isfile(file_path): \n",
    "#         shutil.copy(file_path, target_path)\n",
    "\n",
    "# TEST_DIR = ROOT_DIR + \"/content/Testing\"\n",
    "\n",
    "# real_face_path = ROOT_DIR + \"/content/test/real\"\n",
    "# fake_face_path = ROOT_DIR + \"/content/test/fake\"\n",
    "\n",
    "# os.makedirs(ROOT_DIR + \"/Dataset/test\", exist_ok=True)\n",
    "# os.makedirs(real_face_path, exist_ok=True)\n",
    "# os.makedirs(fake_face_path, exist_ok=True)\n",
    "\n",
    "# fake_classes = [\"false\"]\n",
    "# real_classes = [\"true\"]\n",
    "\n",
    "# for folder in os.listdir(TEST_DIR):\n",
    "#   folder_path = os.path.join(TEST_DIR, folder)\n",
    "#   if os.path.isdir(folder_path):\n",
    "#     target_path = real_face_path if folder in real_classes else fake_face_path\n",
    "#     for file in os.listdir(folder_path):\n",
    "#         file_path = os.path.join(folder_path, file)\n",
    "#         if os.path.isfile(file_path):\n",
    "#             shutil.copy(file_path, target_path)"
   ]
  }
 ],
 "metadata": {
  "kernelspec": {
   "display_name": ".venv",
   "language": "python",
   "name": "python3"
  },
  "language_info": {
   "codemirror_mode": {
    "name": "ipython",
    "version": 3
   },
   "file_extension": ".py",
   "mimetype": "text/x-python",
   "name": "python",
   "nbconvert_exporter": "python",
   "pygments_lexer": "ipython3",
   "version": "3.13.2"
  }
 },
 "nbformat": 4,
 "nbformat_minor": 2
}
